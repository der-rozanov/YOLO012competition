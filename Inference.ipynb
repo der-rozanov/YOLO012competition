{
 "cells": [
  {
   "cell_type": "code",
   "execution_count": 27,
   "id": "63e9b655",
   "metadata": {},
   "outputs": [
    {
     "name": "stdout",
     "output_type": "stream",
     "text": [
      "Ultralytics 8.3.127  Python-3.12.1 torch-2.5.1+cu121 CUDA:0 (NVIDIA GeForce RTX 3060, 12288MiB)\n",
      "YOLOv12l summary (fused): 283 layers, 26,346,782 parameters, 0 gradients, 88.6 GFLOPs\n",
      "\u001b[34m\u001b[1mval: \u001b[0mFast image access  (ping: 0.10.0 ms, read: 973.5364.6 MB/s, size: 99.4 KB)\n"
     ]
    },
    {
     "name": "stderr",
     "output_type": "stream",
     "text": [
      "\u001b[34m\u001b[1mval: \u001b[0mScanning C:\\Users\\MAN-MADE\\Desktop\\CV proj\\datasets\\VisDrone\\VisDrone2019-DET-val\\labels.cache... 548 images, 0 backgrounds, 0 corrupt: 100%|██████████| 548/548 [00:00<?, ?it/s]\n",
      "                 Class     Images  Instances      Box(P          R      mAP50  mAP50-95): 100%|██████████| 35/35 [00:19<00:00,  1.83it/s]\n"
     ]
    },
    {
     "name": "stdout",
     "output_type": "stream",
     "text": [
      "                   all        548      38759      0.534      0.384      0.406       0.25\n",
      "            pedestrian        520       8844      0.569      0.391      0.438      0.208\n",
      "                people        482       5125      0.579      0.275      0.327      0.127\n",
      "               bicycle        364       1287      0.188      0.233      0.134     0.0593\n",
      "                   car        515      14064      0.754      0.762      0.796      0.574\n",
      "                   van        421       1975      0.538      0.447      0.464      0.332\n",
      "                 truck        266        750      0.588      0.381      0.414      0.289\n",
      "              tricycle        337       1045      0.482      0.277      0.299      0.174\n",
      "       awning-tricycle        220        532      0.356      0.143      0.163      0.103\n",
      "                   bus        131        251       0.73      0.506      0.586      0.434\n",
      "                 motor        485       4886      0.555      0.428       0.44      0.197\n",
      "Speed: 0.2ms preprocess, 19.0ms inference, 0.0ms loss, 1.6ms postprocess per image\n",
      "Results saved to \u001b[1mruns\\detect\\val21\u001b[0m\n"
     ]
    }
   ],
   "source": [
    "from ultralytics import YOLO\n",
    "\n",
    "model = YOLO('runs/detect/Y12_train_L/weights/best.pt')\n",
    "# Load a model\n",
    "validation_results = model.val()\n",
    "\n"
   ]
  }
 ],
 "metadata": {
  "kernelspec": {
   "display_name": "Python 3",
   "language": "python",
   "name": "python3"
  },
  "language_info": {
   "codemirror_mode": {
    "name": "ipython",
    "version": 3
   },
   "file_extension": ".py",
   "mimetype": "text/x-python",
   "name": "python",
   "nbconvert_exporter": "python",
   "pygments_lexer": "ipython3",
   "version": "3.12.1"
  }
 },
 "nbformat": 4,
 "nbformat_minor": 5
}
